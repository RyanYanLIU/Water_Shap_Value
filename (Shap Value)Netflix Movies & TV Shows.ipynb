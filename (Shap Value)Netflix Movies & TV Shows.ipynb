{
 "cells": [
  {
   "cell_type": "code",
   "execution_count": 1,
   "metadata": {},
   "outputs": [
    {
     "data": {
      "text/html": [
       "<div>\n",
       "<style scoped>\n",
       "    .dataframe tbody tr th:only-of-type {\n",
       "        vertical-align: middle;\n",
       "    }\n",
       "\n",
       "    .dataframe tbody tr th {\n",
       "        vertical-align: top;\n",
       "    }\n",
       "\n",
       "    .dataframe thead th {\n",
       "        text-align: right;\n",
       "    }\n",
       "</style>\n",
       "<table border=\"1\" class=\"dataframe\">\n",
       "  <thead>\n",
       "    <tr style=\"text-align: right;\">\n",
       "      <th></th>\n",
       "      <th>type</th>\n",
       "      <th>title</th>\n",
       "      <th>director</th>\n",
       "      <th>cast</th>\n",
       "      <th>country</th>\n",
       "      <th>date_added</th>\n",
       "      <th>release_year</th>\n",
       "      <th>rating</th>\n",
       "      <th>duration</th>\n",
       "      <th>listed_in</th>\n",
       "      <th>description</th>\n",
       "    </tr>\n",
       "    <tr>\n",
       "      <th>show_id</th>\n",
       "      <th></th>\n",
       "      <th></th>\n",
       "      <th></th>\n",
       "      <th></th>\n",
       "      <th></th>\n",
       "      <th></th>\n",
       "      <th></th>\n",
       "      <th></th>\n",
       "      <th></th>\n",
       "      <th></th>\n",
       "      <th></th>\n",
       "    </tr>\n",
       "  </thead>\n",
       "  <tbody>\n",
       "    <tr>\n",
       "      <th>s1</th>\n",
       "      <td>TV Show</td>\n",
       "      <td>3%</td>\n",
       "      <td>NaN</td>\n",
       "      <td>João Miguel, Bianca Comparato, Michel Gomes, R...</td>\n",
       "      <td>Brazil</td>\n",
       "      <td>August 14, 2020</td>\n",
       "      <td>2020</td>\n",
       "      <td>TV-MA</td>\n",
       "      <td>4 Seasons</td>\n",
       "      <td>International TV Shows, TV Dramas, TV Sci-Fi &amp;...</td>\n",
       "      <td>In a future where the elite inhabit an island ...</td>\n",
       "    </tr>\n",
       "    <tr>\n",
       "      <th>s2</th>\n",
       "      <td>Movie</td>\n",
       "      <td>7:19</td>\n",
       "      <td>Jorge Michel Grau</td>\n",
       "      <td>Demián Bichir, Héctor Bonilla, Oscar Serrano, ...</td>\n",
       "      <td>Mexico</td>\n",
       "      <td>December 23, 2016</td>\n",
       "      <td>2016</td>\n",
       "      <td>TV-MA</td>\n",
       "      <td>93 min</td>\n",
       "      <td>Dramas, International Movies</td>\n",
       "      <td>After a devastating earthquake hits Mexico Cit...</td>\n",
       "    </tr>\n",
       "    <tr>\n",
       "      <th>s3</th>\n",
       "      <td>Movie</td>\n",
       "      <td>23:59</td>\n",
       "      <td>Gilbert Chan</td>\n",
       "      <td>Tedd Chan, Stella Chung, Henley Hii, Lawrence ...</td>\n",
       "      <td>Singapore</td>\n",
       "      <td>December 20, 2018</td>\n",
       "      <td>2011</td>\n",
       "      <td>R</td>\n",
       "      <td>78 min</td>\n",
       "      <td>Horror Movies, International Movies</td>\n",
       "      <td>When an army recruit is found dead, his fellow...</td>\n",
       "    </tr>\n",
       "    <tr>\n",
       "      <th>s4</th>\n",
       "      <td>Movie</td>\n",
       "      <td>9</td>\n",
       "      <td>Shane Acker</td>\n",
       "      <td>Elijah Wood, John C. Reilly, Jennifer Connelly...</td>\n",
       "      <td>United States</td>\n",
       "      <td>November 16, 2017</td>\n",
       "      <td>2009</td>\n",
       "      <td>PG-13</td>\n",
       "      <td>80 min</td>\n",
       "      <td>Action &amp; Adventure, Independent Movies, Sci-Fi...</td>\n",
       "      <td>In a postapocalyptic world, rag-doll robots hi...</td>\n",
       "    </tr>\n",
       "    <tr>\n",
       "      <th>s5</th>\n",
       "      <td>Movie</td>\n",
       "      <td>21</td>\n",
       "      <td>Robert Luketic</td>\n",
       "      <td>Jim Sturgess, Kevin Spacey, Kate Bosworth, Aar...</td>\n",
       "      <td>United States</td>\n",
       "      <td>January 1, 2020</td>\n",
       "      <td>2008</td>\n",
       "      <td>PG-13</td>\n",
       "      <td>123 min</td>\n",
       "      <td>Dramas</td>\n",
       "      <td>A brilliant group of students become card-coun...</td>\n",
       "    </tr>\n",
       "  </tbody>\n",
       "</table>\n",
       "</div>"
      ],
      "text/plain": [
       "            type  title           director  \\\n",
       "show_id                                      \n",
       "s1       TV Show     3%                NaN   \n",
       "s2         Movie   7:19  Jorge Michel Grau   \n",
       "s3         Movie  23:59       Gilbert Chan   \n",
       "s4         Movie      9        Shane Acker   \n",
       "s5         Movie     21     Robert Luketic   \n",
       "\n",
       "                                                      cast        country  \\\n",
       "show_id                                                                     \n",
       "s1       João Miguel, Bianca Comparato, Michel Gomes, R...         Brazil   \n",
       "s2       Demián Bichir, Héctor Bonilla, Oscar Serrano, ...         Mexico   \n",
       "s3       Tedd Chan, Stella Chung, Henley Hii, Lawrence ...      Singapore   \n",
       "s4       Elijah Wood, John C. Reilly, Jennifer Connelly...  United States   \n",
       "s5       Jim Sturgess, Kevin Spacey, Kate Bosworth, Aar...  United States   \n",
       "\n",
       "                date_added  release_year rating   duration  \\\n",
       "show_id                                                      \n",
       "s1         August 14, 2020          2020  TV-MA  4 Seasons   \n",
       "s2       December 23, 2016          2016  TV-MA     93 min   \n",
       "s3       December 20, 2018          2011      R     78 min   \n",
       "s4       November 16, 2017          2009  PG-13     80 min   \n",
       "s5         January 1, 2020          2008  PG-13    123 min   \n",
       "\n",
       "                                                 listed_in  \\\n",
       "show_id                                                      \n",
       "s1       International TV Shows, TV Dramas, TV Sci-Fi &...   \n",
       "s2                            Dramas, International Movies   \n",
       "s3                     Horror Movies, International Movies   \n",
       "s4       Action & Adventure, Independent Movies, Sci-Fi...   \n",
       "s5                                                  Dramas   \n",
       "\n",
       "                                               description  \n",
       "show_id                                                     \n",
       "s1       In a future where the elite inhabit an island ...  \n",
       "s2       After a devastating earthquake hits Mexico Cit...  \n",
       "s3       When an army recruit is found dead, his fellow...  \n",
       "s4       In a postapocalyptic world, rag-doll robots hi...  \n",
       "s5       A brilliant group of students become card-coun...  "
      ]
     },
     "execution_count": 1,
     "metadata": {},
     "output_type": "execute_result"
    }
   ],
   "source": [
    "import pandas as pd\n",
    "import numpy as np \n",
    "\n",
    "link = 'C:\\\\Python Software\\\\netflix_titles.csv'\n",
    "\n",
    "df = pd.read_csv(link + '\\\\netflix_titles.csv')\n",
    "df.set_index('show_id', inplace = True)\n",
    "df.head()"
   ]
  },
  {
   "cell_type": "code",
   "execution_count": 2,
   "metadata": {},
   "outputs": [
    {
     "data": {
      "text/plain": [
       "type               0\n",
       "title              0\n",
       "director        2389\n",
       "cast             718\n",
       "country          507\n",
       "date_added        10\n",
       "release_year       0\n",
       "rating             7\n",
       "duration           0\n",
       "listed_in          0\n",
       "description        0\n",
       "dtype: int64"
      ]
     },
     "execution_count": 2,
     "metadata": {},
     "output_type": "execute_result"
    }
   ],
   "source": [
    "df.isnull().sum()"
   ]
  },
  {
   "cell_type": "code",
   "execution_count": 3,
   "metadata": {},
   "outputs": [
    {
     "data": {
      "text/html": [
       "<div>\n",
       "<style scoped>\n",
       "    .dataframe tbody tr th:only-of-type {\n",
       "        vertical-align: middle;\n",
       "    }\n",
       "\n",
       "    .dataframe tbody tr th {\n",
       "        vertical-align: top;\n",
       "    }\n",
       "\n",
       "    .dataframe thead th {\n",
       "        text-align: right;\n",
       "    }\n",
       "</style>\n",
       "<table border=\"1\" class=\"dataframe\">\n",
       "  <thead>\n",
       "    <tr style=\"text-align: right;\">\n",
       "      <th></th>\n",
       "      <th>id</th>\n",
       "      <th>cast</th>\n",
       "      <th>type</th>\n",
       "      <th>title</th>\n",
       "      <th>country</th>\n",
       "      <th>date_added</th>\n",
       "      <th>release_year</th>\n",
       "      <th>description</th>\n",
       "      <th>director</th>\n",
       "      <th>duration</th>\n",
       "      <th>listed_in</th>\n",
       "      <th>rating</th>\n",
       "      <th>rottentomatoes_info</th>\n",
       "      <th>rottentomatoes_cast</th>\n",
       "      <th>rottentomatoes_audience_score</th>\n",
       "      <th>rottentomatoes_audience_#reviews</th>\n",
       "      <th>rottentomatoes_audience_review</th>\n",
       "      <th>rottentomatoes_tomatometer_score</th>\n",
       "      <th>rottentomatoes_critics_#reviews</th>\n",
       "      <th>rottentomatoes_critic_review</th>\n",
       "    </tr>\n",
       "  </thead>\n",
       "  <tbody>\n",
       "    <tr>\n",
       "      <th>0</th>\n",
       "      <td>s2</td>\n",
       "      <td>Demián Bichir, Héctor Bonilla, Oscar Serrano, ...</td>\n",
       "      <td>Movie</td>\n",
       "      <td>7:19</td>\n",
       "      <td>Mexico</td>\n",
       "      <td>December 23, 2016</td>\n",
       "      <td>2016</td>\n",
       "      <td>After a devastating earthquake hits Mexico Cit...</td>\n",
       "      <td>Jorge Michel Grau</td>\n",
       "      <td>93 min</td>\n",
       "      <td>Dramas, International Movies</td>\n",
       "      <td>TV-MA</td>\n",
       "      <td>{'Genre': 'drama', 'Original Language': 'Spani...</td>\n",
       "      <td>{'Elsa - Eloisa Delfin': 'Carmen Beato', 'Fern...</td>\n",
       "      <td>52.0</td>\n",
       "      <td>10</td>\n",
       "      <td>NaN</td>\n",
       "      <td>100.0</td>\n",
       "      <td>10.0</td>\n",
       "      <td>[{'Review': 'The intentions of this film are c...</td>\n",
       "    </tr>\n",
       "    <tr>\n",
       "      <th>1</th>\n",
       "      <td>s3</td>\n",
       "      <td>Tedd Chan, Stella Chung, Henley Hii, Lawrence ...</td>\n",
       "      <td>Movie</td>\n",
       "      <td>23:59</td>\n",
       "      <td>Singapore</td>\n",
       "      <td>December 20, 2018</td>\n",
       "      <td>2011</td>\n",
       "      <td>When an army recruit is found dead, his fellow...</td>\n",
       "      <td>Gilbert Chan</td>\n",
       "      <td>78 min</td>\n",
       "      <td>Horror Movies, International Movies</td>\n",
       "      <td>R</td>\n",
       "      <td>{'Genre': 'horror', 'Original Language': 'Chin...</td>\n",
       "      <td>{'Boss': 'Philip Hersh', 'Tan': 'Tedd Chan', '...</td>\n",
       "      <td>20.0</td>\n",
       "      <td>10</td>\n",
       "      <td>NaN</td>\n",
       "      <td>NaN</td>\n",
       "      <td>0.0</td>\n",
       "      <td>NaN</td>\n",
       "    </tr>\n",
       "    <tr>\n",
       "      <th>2</th>\n",
       "      <td>s4</td>\n",
       "      <td>Elijah Wood, John C. Reilly, Jennifer Connelly...</td>\n",
       "      <td>Movie</td>\n",
       "      <td>9</td>\n",
       "      <td>United States</td>\n",
       "      <td>November 16, 2017</td>\n",
       "      <td>2009</td>\n",
       "      <td>In a postapocalyptic world, rag-doll robots hi...</td>\n",
       "      <td>Shane Acker</td>\n",
       "      <td>80 min</td>\n",
       "      <td>Action &amp; Adventure, Independent Movies, Sci-Fi...</td>\n",
       "      <td>PG-13</td>\n",
       "      <td>NaN</td>\n",
       "      <td>NaN</td>\n",
       "      <td>NaN</td>\n",
       "      <td>NaN</td>\n",
       "      <td>NaN</td>\n",
       "      <td>NaN</td>\n",
       "      <td>NaN</td>\n",
       "      <td>NaN</td>\n",
       "    </tr>\n",
       "    <tr>\n",
       "      <th>3</th>\n",
       "      <td>s5</td>\n",
       "      <td>Jim Sturgess, Kevin Spacey, Kate Bosworth, Aar...</td>\n",
       "      <td>Movie</td>\n",
       "      <td>21</td>\n",
       "      <td>United States</td>\n",
       "      <td>January 1, 2020</td>\n",
       "      <td>2008</td>\n",
       "      <td>A brilliant group of students become card-coun...</td>\n",
       "      <td>Robert Luketic</td>\n",
       "      <td>123 min</td>\n",
       "      <td>Dramas</td>\n",
       "      <td>PG-13</td>\n",
       "      <td>{'Genre': 'romance, comedy, drama', 'Original ...</td>\n",
       "      <td>{'Justin Sellers': 'Matt Wheeler', 'Sam Presco...</td>\n",
       "      <td>17.0</td>\n",
       "      <td>10</td>\n",
       "      <td>NaN</td>\n",
       "      <td>NaN</td>\n",
       "      <td>0.0</td>\n",
       "      <td>[{'Review': 'Empty calories, yes, but tasty en...</td>\n",
       "    </tr>\n",
       "    <tr>\n",
       "      <th>4</th>\n",
       "      <td>s7</td>\n",
       "      <td>Amina Khalil, Ahmed Dawood, Tarek Lotfy, Ahmed...</td>\n",
       "      <td>Movie</td>\n",
       "      <td>122</td>\n",
       "      <td>Egypt</td>\n",
       "      <td>June 1, 2020</td>\n",
       "      <td>2019</td>\n",
       "      <td>After an awful accident, a couple admitted to ...</td>\n",
       "      <td>Yasir Al Yasiri</td>\n",
       "      <td>95 min</td>\n",
       "      <td>Horror Movies, International Movies</td>\n",
       "      <td>TV-MA</td>\n",
       "      <td>NaN</td>\n",
       "      <td>NaN</td>\n",
       "      <td>NaN</td>\n",
       "      <td>NaN</td>\n",
       "      <td>NaN</td>\n",
       "      <td>NaN</td>\n",
       "      <td>NaN</td>\n",
       "      <td>NaN</td>\n",
       "    </tr>\n",
       "  </tbody>\n",
       "</table>\n",
       "</div>"
      ],
      "text/plain": [
       "   id                                               cast   type  title  \\\n",
       "0  s2  Demián Bichir, Héctor Bonilla, Oscar Serrano, ...  Movie   7:19   \n",
       "1  s3  Tedd Chan, Stella Chung, Henley Hii, Lawrence ...  Movie  23:59   \n",
       "2  s4  Elijah Wood, John C. Reilly, Jennifer Connelly...  Movie      9   \n",
       "3  s5  Jim Sturgess, Kevin Spacey, Kate Bosworth, Aar...  Movie     21   \n",
       "4  s7  Amina Khalil, Ahmed Dawood, Tarek Lotfy, Ahmed...  Movie    122   \n",
       "\n",
       "         country         date_added  release_year  \\\n",
       "0         Mexico  December 23, 2016          2016   \n",
       "1      Singapore  December 20, 2018          2011   \n",
       "2  United States  November 16, 2017          2009   \n",
       "3  United States    January 1, 2020          2008   \n",
       "4          Egypt       June 1, 2020          2019   \n",
       "\n",
       "                                         description           director  \\\n",
       "0  After a devastating earthquake hits Mexico Cit...  Jorge Michel Grau   \n",
       "1  When an army recruit is found dead, his fellow...       Gilbert Chan   \n",
       "2  In a postapocalyptic world, rag-doll robots hi...        Shane Acker   \n",
       "3  A brilliant group of students become card-coun...     Robert Luketic   \n",
       "4  After an awful accident, a couple admitted to ...    Yasir Al Yasiri   \n",
       "\n",
       "  duration                                          listed_in rating  \\\n",
       "0   93 min                       Dramas, International Movies  TV-MA   \n",
       "1   78 min                Horror Movies, International Movies      R   \n",
       "2   80 min  Action & Adventure, Independent Movies, Sci-Fi...  PG-13   \n",
       "3  123 min                                             Dramas  PG-13   \n",
       "4   95 min                Horror Movies, International Movies  TV-MA   \n",
       "\n",
       "                                 rottentomatoes_info  \\\n",
       "0  {'Genre': 'drama', 'Original Language': 'Spani...   \n",
       "1  {'Genre': 'horror', 'Original Language': 'Chin...   \n",
       "2                                                NaN   \n",
       "3  {'Genre': 'romance, comedy, drama', 'Original ...   \n",
       "4                                                NaN   \n",
       "\n",
       "                                 rottentomatoes_cast  \\\n",
       "0  {'Elsa - Eloisa Delfin': 'Carmen Beato', 'Fern...   \n",
       "1  {'Boss': 'Philip Hersh', 'Tan': 'Tedd Chan', '...   \n",
       "2                                                NaN   \n",
       "3  {'Justin Sellers': 'Matt Wheeler', 'Sam Presco...   \n",
       "4                                                NaN   \n",
       "\n",
       "   rottentomatoes_audience_score rottentomatoes_audience_#reviews  \\\n",
       "0                           52.0                               10   \n",
       "1                           20.0                               10   \n",
       "2                            NaN                              NaN   \n",
       "3                           17.0                               10   \n",
       "4                            NaN                              NaN   \n",
       "\n",
       "  rottentomatoes_audience_review  rottentomatoes_tomatometer_score  \\\n",
       "0                            NaN                             100.0   \n",
       "1                            NaN                               NaN   \n",
       "2                            NaN                               NaN   \n",
       "3                            NaN                               NaN   \n",
       "4                            NaN                               NaN   \n",
       "\n",
       "   rottentomatoes_critics_#reviews  \\\n",
       "0                             10.0   \n",
       "1                              0.0   \n",
       "2                              NaN   \n",
       "3                              0.0   \n",
       "4                              NaN   \n",
       "\n",
       "                        rottentomatoes_critic_review  \n",
       "0  [{'Review': 'The intentions of this film are c...  \n",
       "1                                                NaN  \n",
       "2                                                NaN  \n",
       "3  [{'Review': 'Empty calories, yes, but tasty en...  \n",
       "4                                                NaN  "
      ]
     },
     "execution_count": 3,
     "metadata": {},
     "output_type": "execute_result"
    }
   ],
   "source": [
    "df_1 = pd.read_csv(link + '\\\\netflix_titles_enriched.csv')\n",
    "df_1 = df_1.rename({'Unnamed: 0': 'id'}, axis = 1)\n",
    "#f_1.set_index('id', inplace = True)\n",
    "df_1.head()"
   ]
  },
  {
   "cell_type": "code",
   "execution_count": 4,
   "metadata": {},
   "outputs": [
    {
     "data": {
      "text/plain": [
       "array(['TV-MA', 'R', 'PG-13', 'TV-14', 'TV-PG', 'NR', 'TV-G', 'TV-Y',\n",
       "       '2863', 'PG', 'G', 'TV-Y7', 'NC-17', 'TV-Y7-FV', 'UR'],\n",
       "      dtype=object)"
      ]
     },
     "execution_count": 4,
     "metadata": {},
     "output_type": "execute_result"
    }
   ],
   "source": [
    "df_1.rating.unique()"
   ]
  },
  {
   "cell_type": "markdown",
   "metadata": {},
   "source": [
    "# Nan Value & Unique value seek"
   ]
  },
  {
   "cell_type": "code",
   "execution_count": 5,
   "metadata": {},
   "outputs": [
    {
     "data": {
      "text/plain": [
       "id                                     0\n",
       "cast                                 805\n",
       "type                                   0\n",
       "title                                  0\n",
       "country                              577\n",
       "date_added                            54\n",
       "release_year                           0\n",
       "description                            0\n",
       "director                            4120\n",
       "duration                               0\n",
       "listed_in                              0\n",
       "rating                                 0\n",
       "rottentomatoes_info                 4084\n",
       "rottentomatoes_cast                 4501\n",
       "rottentomatoes_audience_score       4554\n",
       "rottentomatoes_audience_#reviews    4030\n",
       "rottentomatoes_audience_review      7945\n",
       "rottentomatoes_tomatometer_score    5423\n",
       "rottentomatoes_critics_#reviews     4043\n",
       "rottentomatoes_critic_review        5206\n",
       "dtype: int64"
      ]
     },
     "execution_count": 5,
     "metadata": {},
     "output_type": "execute_result"
    }
   ],
   "source": [
    "df_1.isnull().sum()"
   ]
  },
  {
   "cell_type": "code",
   "execution_count": 6,
   "metadata": {},
   "outputs": [
    {
     "data": {
      "text/plain": [
       "True"
      ]
     },
     "execution_count": 6,
     "metadata": {},
     "output_type": "execute_result"
    }
   ],
   "source": [
    "len(df_1['id']) == df_1.id.value_counts().sum()"
   ]
  },
  {
   "cell_type": "markdown",
   "metadata": {},
   "source": [
    "# Data Cleansing & Feature Engineering"
   ]
  },
  {
   "cell_type": "markdown",
   "metadata": {},
   "source": [
    "# Features:                                 \n",
    "country                                                 \n",
    "release_year                           \n",
    "description                            \n",
    "director                            \n",
    "duration                               \n",
    "listed_in                              \n",
    "rating                                 "
   ]
  },
  {
   "cell_type": "code",
   "execution_count": 7,
   "metadata": {},
   "outputs": [
    {
     "data": {
      "text/plain": [
       "0          1.55\n",
       "1          1.30\n",
       "2          1.33\n",
       "3          2.05\n",
       "4          1.58\n",
       "         ...   \n",
       "9652    2160.00\n",
       "9653    4320.00\n",
       "9654    4320.00\n",
       "9655    2160.00\n",
       "9656    2160.00\n",
       "Name: duration, Length: 9657, dtype: float64"
      ]
     },
     "execution_count": 7,
     "metadata": {},
     "output_type": "execute_result"
    }
   ],
   "source": [
    "nums = df_1['duration'].str.split(' ').str[0] ##transform duration into new column time\n",
    "second = df_1['duration'].str.split(' ').str[1]\n",
    "df_1['duration'] = df_1['duration'].apply(lambda x: round(int(x.split(' ')[0])*3*30*24, 2)\n",
    "                                      if x.split(' ')[1] == 'Season' or x.split(' ')[1] == 'Seasons' \n",
    "                                     else round(int(x.split(' ')[0])/60, 2)) ## Transfer this column into hours\n",
    "df_1.duration"
   ]
  },
  {
   "cell_type": "code",
   "execution_count": 8,
   "metadata": {},
   "outputs": [
    {
     "data": {
      "text/plain": [
       "0       0.438255\n",
       "1       0.262364\n",
       "2       0.285179\n",
       "3       0.717840\n",
       "4       0.457425\n",
       "          ...   \n",
       "9652    7.677864\n",
       "9653    8.371011\n",
       "9654    8.371011\n",
       "9655    7.677864\n",
       "9656    7.677864\n",
       "Name: Log_duration, Length: 9657, dtype: float64"
      ]
     },
     "execution_count": 8,
     "metadata": {},
     "output_type": "execute_result"
    }
   ],
   "source": [
    "### listed_in & duration & description    cleansing\n",
    "import math\n",
    "from textblob import TextBlob\n",
    "df_1['listed_in'] = df_1['listed_in'].str.split(',').str[0]##listed_in\n",
    "\n",
    "df_1['director'].fillna('N/A', inplace = True)##Director\n",
    "df_1['country'].fillna('N/A', inplace = True) ##Country\n",
    "\n",
    "res = []## Extract the sentiment from description & Transfer description into numeric value\n",
    "for item in df['description']:\n",
    "    Blob = TextBlob(item).sentences\n",
    "    for j in Blob:\n",
    "        senti = round(j.sentiment.polarity, 2)\n",
    "        res.append(senti)\n",
    "\n",
    "output = (len(df_1.description) - len(res))*[0]\n",
    "res = res + output\n",
    "data = pd.DataFrame(res, columns = ['sentiment'])\n",
    "\n",
    "df_1['Log_duration'] = df_1['duration'].apply(lambda n: math.log(n))\n",
    "df_1.Log_duration"
   ]
  },
  {
   "cell_type": "code",
   "execution_count": 9,
   "metadata": {},
   "outputs": [
    {
     "data": {
      "text/html": [
       "<div>\n",
       "<style scoped>\n",
       "    .dataframe tbody tr th:only-of-type {\n",
       "        vertical-align: middle;\n",
       "    }\n",
       "\n",
       "    .dataframe tbody tr th {\n",
       "        vertical-align: top;\n",
       "    }\n",
       "\n",
       "    .dataframe thead th {\n",
       "        text-align: right;\n",
       "    }\n",
       "</style>\n",
       "<table border=\"1\" class=\"dataframe\">\n",
       "  <thead>\n",
       "    <tr style=\"text-align: right;\">\n",
       "      <th></th>\n",
       "      <th>country</th>\n",
       "      <th>release_year</th>\n",
       "      <th>duration</th>\n",
       "      <th>listed_in</th>\n",
       "      <th>director</th>\n",
       "      <th>rating</th>\n",
       "      <th>Log_duration</th>\n",
       "      <th>sentiment</th>\n",
       "    </tr>\n",
       "  </thead>\n",
       "  <tbody>\n",
       "    <tr>\n",
       "      <th>9652</th>\n",
       "      <td>Japan</td>\n",
       "      <td>2018</td>\n",
       "      <td>2160.0</td>\n",
       "      <td>Anime Series</td>\n",
       "      <td>N/A</td>\n",
       "      <td>TV-Y7</td>\n",
       "      <td>7.677864</td>\n",
       "      <td>0.0</td>\n",
       "    </tr>\n",
       "    <tr>\n",
       "      <th>9653</th>\n",
       "      <td>N/A</td>\n",
       "      <td>2018</td>\n",
       "      <td>4320.0</td>\n",
       "      <td>Kids' TV</td>\n",
       "      <td>N/A</td>\n",
       "      <td>TV-Y7</td>\n",
       "      <td>8.371011</td>\n",
       "      <td>0.0</td>\n",
       "    </tr>\n",
       "    <tr>\n",
       "      <th>9654</th>\n",
       "      <td>N/A</td>\n",
       "      <td>2018</td>\n",
       "      <td>4320.0</td>\n",
       "      <td>Kids' TV</td>\n",
       "      <td>N/A</td>\n",
       "      <td>TV-Y7</td>\n",
       "      <td>8.371011</td>\n",
       "      <td>0.0</td>\n",
       "    </tr>\n",
       "    <tr>\n",
       "      <th>9655</th>\n",
       "      <td>Mexico</td>\n",
       "      <td>2019</td>\n",
       "      <td>2160.0</td>\n",
       "      <td>International TV Shows</td>\n",
       "      <td>N/A</td>\n",
       "      <td>TV-MA</td>\n",
       "      <td>7.677864</td>\n",
       "      <td>0.0</td>\n",
       "    </tr>\n",
       "    <tr>\n",
       "      <th>9656</th>\n",
       "      <td>Australia</td>\n",
       "      <td>2019</td>\n",
       "      <td>2160.0</td>\n",
       "      <td>International TV Shows</td>\n",
       "      <td>N/A</td>\n",
       "      <td>TV-PG</td>\n",
       "      <td>7.677864</td>\n",
       "      <td>0.0</td>\n",
       "    </tr>\n",
       "  </tbody>\n",
       "</table>\n",
       "</div>"
      ],
      "text/plain": [
       "        country  release_year  duration               listed_in director  \\\n",
       "9652      Japan          2018    2160.0            Anime Series      N/A   \n",
       "9653        N/A          2018    4320.0                Kids' TV      N/A   \n",
       "9654        N/A          2018    4320.0                Kids' TV      N/A   \n",
       "9655     Mexico          2019    2160.0  International TV Shows      N/A   \n",
       "9656  Australia          2019    2160.0  International TV Shows      N/A   \n",
       "\n",
       "     rating  Log_duration  sentiment  \n",
       "9652  TV-Y7      7.677864        0.0  \n",
       "9653  TV-Y7      8.371011        0.0  \n",
       "9654  TV-Y7      8.371011        0.0  \n",
       "9655  TV-MA      7.677864        0.0  \n",
       "9656  TV-PG      7.677864        0.0  "
      ]
     },
     "execution_count": 9,
     "metadata": {},
     "output_type": "execute_result"
    }
   ],
   "source": [
    "DF = df_1[['country', 'release_year', 'duration', 'listed_in', 'director', 'rating', 'Log_duration']]\n",
    "Data = pd.concat([DF, data], axis = 1)\n",
    "Data.tail()"
   ]
  },
  {
   "cell_type": "code",
   "execution_count": 10,
   "metadata": {},
   "outputs": [
    {
     "data": {
      "text/plain": [
       "9657"
      ]
     },
     "execution_count": 10,
     "metadata": {},
     "output_type": "execute_result"
    }
   ],
   "source": [
    "Data.isnull().sum()\n",
    "len(Data['rating'])"
   ]
  },
  {
   "cell_type": "markdown",
   "metadata": {},
   "source": [
    "# Label Customization\n",
    "\n",
    "['TV-MA', 'R', 'PG-13', 'TV-14', 'TV-PG', 'NR', 'TV-G', 'TV-Y',\n",
    "       '2863', 'PG', 'G', 'TV-Y7', 'NC-17', 'TV-Y7-FV', 'UR']"
   ]
  },
  {
   "cell_type": "markdown",
   "metadata": {},
   "source": [
    "# Meaning\n",
    "TV-Y: Designed to be appropriate for all children  #1\n",
    "TV-Y7: Suitable for ages 7 and up #1\n",
    "G: Suitable for General Audiences #1\n",
    "TV-G: Suitable for General Audiences #1\n",
    "PG: Parental Guidance suggested #0\n",
    "TV-PG: Parental Guidance suggested #0\n",
    "PG-13: Parents strongly cautioned. May be Inappropriate for ages 12 and under. #0\n",
    "TV-14: Parents strongly cautioned. May not be suitable for ages 14 and under. #0\n",
    "R: Restricted. May be inappropriate for ages 17 and under. #0\n",
    "TV-MA: For Mature Audiences. May not be suitable for ages 17 and under. #0\n",
    "NC-17: Inappropriate for ages 17 and under #0"
   ]
  },
  {
   "cell_type": "code",
   "execution_count": 11,
   "metadata": {},
   "outputs": [],
   "source": [
    "# Do a classifier to split which one is suitable for children and which one is not \n",
    "# if it is appropriate for children, mark as #1, otherwise mark as #0\n",
    "\n",
    "Rating = ['NR', 'TV-G', 'TV-Y', 'G', 'TV-Y7', 'TV-Y7-FV', 'UR']  # Mark as 1\n",
    "def func(n):\n",
    "    if n in Rating:\n",
    "        return 1\n",
    "    elif n not in Rating:\n",
    "        return 0\n",
    "    \n",
    "lst = list(map(func, Data['rating']))\n",
    "Data['rate'] = lst\n"
   ]
  },
  {
   "cell_type": "code",
   "execution_count": 12,
   "metadata": {},
   "outputs": [],
   "source": [
    "## Country, listed_in, director\n",
    "from sklearn.compose import ColumnTransformer\n",
    "from sklearn.preprocessing import OneHotEncoder\n",
    "from sklearn.decomposition import PCA\n",
    "\n",
    "X = Data.drop(['rate', 'rating'], axis = 1)\n",
    "ct = ColumnTransformer([('ohe', OneHotEncoder(), ['country','director','listed_in'])], \n",
    "                       remainder = 'passthrough')\n",
    "X_ct = ct.fit_transform(X)"
   ]
  },
  {
   "cell_type": "markdown",
   "metadata": {},
   "source": [
    "# Machine Learning Model Creation"
   ]
  },
  {
   "cell_type": "code",
   "execution_count": 13,
   "metadata": {},
   "outputs": [],
   "source": [
    "from sklearn.feature_selection import SelectFromModel\n",
    "from sklearn.tree import DecisionTreeClassifier\n",
    "from sklearn.ensemble import RandomForestClassifier\n",
    "from sklearn.metrics import roc_curve, auc, accuracy_score\n",
    "from sklearn.model_selection import train_test_split"
   ]
  },
  {
   "cell_type": "code",
   "execution_count": 14,
   "metadata": {},
   "outputs": [
    {
     "data": {
      "text/plain": [
       "0       0.0\n",
       "1       0.0\n",
       "2       0.0\n",
       "3       0.0\n",
       "4       0.0\n",
       "       ... \n",
       "9652    1.0\n",
       "9653    1.0\n",
       "9654    1.0\n",
       "9655    0.0\n",
       "9656    0.0\n",
       "Name: rate, Length: 9657, dtype: float64"
      ]
     },
     "execution_count": 14,
     "metadata": {},
     "output_type": "execute_result"
    }
   ],
   "source": [
    "Data['rate'].astype('float64')"
   ]
  },
  {
   "cell_type": "code",
   "execution_count": 15,
   "metadata": {},
   "outputs": [
    {
     "data": {
      "text/plain": [
       "(<9657x181 sparse matrix of type '<class 'numpy.float64'>'\n",
       " \twith 49590 stored elements in Compressed Sparse Row format>,\n",
       " dtype('float64'))"
      ]
     },
     "execution_count": 15,
     "metadata": {},
     "output_type": "execute_result"
    }
   ],
   "source": [
    "from sklearn.feature_selection import SelectFromModel\n",
    "from sklearn.tree import DecisionTreeClassifier\n",
    "\n",
    "y = Data['rate'].astype('float64').values\n",
    "dt = DecisionTreeClassifier(criterion = 'gini', min_samples_split = 20, max_depth = 50, random_state = 10)\n",
    "Select = SelectFromModel(estimator = dt).fit(X_ct, y)\n",
    "\n",
    "Select_X = Select.transform(X_ct)\n",
    "Select_X, y.dtype"
   ]
  },
  {
   "cell_type": "code",
   "execution_count": 16,
   "metadata": {},
   "outputs": [],
   "source": [
    "from sklearn.ensemble import VotingClassifier\n",
    "from sklearn.svm import SVC\n",
    "from sklearn.linear_model import LogisticRegression\n",
    "\n",
    "rf = RandomForestClassifier(n_estimators = 100, max_depth = 50, min_samples_split = 30, random_state = 5)\n",
    "lr = LogisticRegression(random_state = 5)\n",
    "svc = SVC(random_state = 5)\n",
    "\n",
    "vc = VotingClassifier(estimators = [('rf', rf),('lr',lr),('svc',svc)], voting = 'hard')\n",
    "#vc.fit(Select_X, y)"
   ]
  },
  {
   "cell_type": "code",
   "execution_count": 17,
   "metadata": {},
   "outputs": [
    {
     "data": {
      "text/plain": [
       "VotingClassifier(estimators=[('rf',\n",
       "                              RandomForestClassifier(max_depth=50,\n",
       "                                                     min_samples_split=30,\n",
       "                                                     random_state=5)),\n",
       "                             ('lr', LogisticRegression(random_state=5)),\n",
       "                             ('svc', SVC(random_state=5))])"
      ]
     },
     "execution_count": 17,
     "metadata": {},
     "output_type": "execute_result"
    }
   ],
   "source": [
    "X_train, X_test, y_train, y_test = train_test_split(Select_X, y, stratify = y, \n",
    "                                                    test_size = 0.25, random_state = 10)\n",
    "vc.fit(X_train, y_train)"
   ]
  },
  {
   "cell_type": "code",
   "execution_count": 18,
   "metadata": {},
   "outputs": [
    {
     "data": {
      "text/plain": [
       "(0.9312344656172328, 0.9333333333333333)"
      ]
     },
     "execution_count": 18,
     "metadata": {},
     "output_type": "execute_result"
    }
   ],
   "source": [
    "y_pred = vc.fit(X_train, y_train).predict(X_test)\n",
    "vc.fit(X_train, y_train).predict(X_test)\n",
    "\n",
    "vc.score(X_train, y_train), vc.score(X_test, y_test)"
   ]
  },
  {
   "cell_type": "code",
   "execution_count": 19,
   "metadata": {},
   "outputs": [
    {
     "data": {
      "image/png": "[encoded data removed]",
      "text/plain": [
       "<Figure size 432x288 with 2 Axes>"
      ]
     },
     "metadata": {
      "needs_background": "light"
     },
     "output_type": "display_data"
    },
    {
     "data": {
      "text/plain": [
       "(0.9402173913043478, 0.5356037151702786)"
      ]
     },
     "execution_count": 19,
     "metadata": {},
     "output_type": "execute_result"
    }
   ],
   "source": [
    "import matplotlib.pyplot as plt \n",
    "from sklearn.metrics import confusion_matrix, recall_score, precision_score, plot_confusion_matrix\n",
    "\n",
    "cm = confusion_matrix(y_test, y_pred)\n",
    "pre_score = precision_score(y_test, y_pred)\n",
    "rec_score = recall_score(y_test, y_pred)\n",
    "plt_cm = plot_confusion_matrix(vc, X_test, y_test)\n",
    "\n",
    "plt.show()\n",
    "pre_score, rec_score"
   ]
  },
  {
   "cell_type": "code",
   "execution_count": 20,
   "metadata": {},
   "outputs": [
    {
     "data": {
      "image/png": "[encoded data removed]",
      "text/plain": [
       "<Figure size 432x288 with 1 Axes>"
      ]
     },
     "metadata": {
      "needs_background": "light"
     },
     "output_type": "display_data"
    }
   ],
   "source": [
    "# ROC Curve\n",
    "fpr, tpr, threshold = roc_curve(y_test, y_pred)\n",
    "AUC = auc(fpr, tpr)\n",
    "plt.title('ROC Curve')\n",
    "plt.plot([0, 1], [0, 1], linestyle = '-', lw = 2)\n",
    "plt.plot(fpr, tpr, linestyle = 'dotted', lw = 2, label = 'ROC is %.2f' % AUC)\n",
    "plt.xlim(0, 1)\n",
    "plt.ylim(0, 1)\n",
    "plt.xlabel('False Positive Rate')\n",
    "plt.ylabel('True Positive Rate')\n",
    "plt.legend(loc = 'lower right')\n",
    "plt.show()"
   ]
  },
  {
   "cell_type": "code",
   "execution_count": 24,
   "metadata": {},
   "outputs": [
    {
     "data": {
      "image/png": "[encoded data removed]",
      "text/plain": [
       "<Figure size 576x684 with 2 Axes>"
      ]
     },
     "metadata": {
      "needs_background": "light"
     },
     "output_type": "display_data"
    }
   ],
   "source": [
    "### Shapley Value\n",
    "import shap\n",
    "\n",
    "lr.fit(X_train, y_train)\n",
    "num = X_test\n",
    "explainer = shap.Explainer(lr, num)\n",
    "shapValues = explainer.shap_values(num)\n",
    "shap.summary_plot(shapValues, num)"
   ]
  },
  {
   "cell_type": "code",
   "execution_count": null,
   "metadata": {},
   "outputs": [],
   "source": []
  }
 ],
 "metadata": {
  "kernelspec": {
   "display_name": "Python 3.6.5 64-bit",
   "language": "python",
   "name": "python36564bit8af650d9fc184afc892d4d9591d512e8"
  },
  "language_info": {
   "codemirror_mode": {
    "name": "ipython",
    "version": 3
   },
   "file_extension": ".py",
   "mimetype": "text/x-python",
   "name": "python",
   "nbconvert_exporter": "python",
   "pygments_lexer": "ipython3",
   "version": "3.6.5"
  }
 },
 "nbformat": 4,
 "nbformat_minor": 4
}
